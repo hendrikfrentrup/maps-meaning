{
 "cells": [
  {
   "cell_type": "code",
   "execution_count": 3,
   "metadata": {},
   "outputs": [],
   "source": [
    "import os\n",
    "os.environ[\"PYSPARK_SUBMIT_ARGS\"] = (\"--packages graphframes:graphframes:0.7.0-spark2.4-s_2.11 pyspark-shell\")"
   ]
  },
  {
   "cell_type": "code",
   "execution_count": 6,
   "metadata": {},
   "outputs": [],
   "source": [
    "try:\n",
    "    sc and spark\n",
    "except NameError as e:\n",
    "#     import findspark\n",
    "#     findspark.init()\n",
    "    import pyspark\n",
    "    import pyspark.sql\n",
    "    \n",
    "    sc = pyspark.SparkContext()\n",
    "    spark = pyspark.sql.SparkSession.builder.appName(\"test\").getOrCreate()\n",
    "# except Exception as e:\n",
    "#     print(e)"
   ]
  },
  {
   "cell_type": "code",
   "execution_count": 4,
   "metadata": {},
   "outputs": [
    {
     "name": "stdout",
     "output_type": "stream",
     "text": [
      "<module 'pyspark.version' from '/usr/local/spark/python/pyspark/version.py'>\n",
      "2.4.3\n"
     ]
    }
   ],
   "source": [
    "print(pyspark.version)\n",
    "print(spark.version)"
   ]
  },
  {
   "cell_type": "code",
   "execution_count": 4,
   "metadata": {},
   "outputs": [],
   "source": [
    "import graphframes as gf"
   ]
  },
  {
   "cell_type": "code",
   "execution_count": 3,
   "metadata": {},
   "outputs": [
    {
     "name": "stdout",
     "output_type": "stream",
     "text": [
      "+----+\n",
      "|  c1|\n",
      "+----+\n",
      "|Test|\n",
      "+----+\n",
      "\n"
     ]
    }
   ],
   "source": [
    "# do something to prove it works\n",
    "spark.sql('SELECT \"Test\" as c1').show()"
   ]
  },
  {
   "cell_type": "code",
   "execution_count": 5,
   "metadata": {},
   "outputs": [],
   "source": [
    "# import data\n",
    "bikeStations = spark.read.option(\"header\",\"true\")\\\n",
    "  .csv(\"data/201508_station_data.csv\")\n",
    "tripData = spark.read.option(\"header\",\"true\")\\\n",
    "  .csv(\"data/201508_trip_data.csv\")"
   ]
  },
  {
   "cell_type": "code",
   "execution_count": 6,
   "metadata": {},
   "outputs": [],
   "source": [
    "# convert to nodes and edges\n",
    "stationVertices = bikeStations.withColumnRenamed(\"name\", \"id\").distinct()\n",
    "tripEdges = tripData\\\n",
    "  .withColumnRenamed(\"Start Station\", \"src\")\\\n",
    "  .withColumnRenamed(\"End Station\", \"dst\")"
   ]
  },
  {
   "cell_type": "code",
   "execution_count": 21,
   "metadata": {},
   "outputs": [
    {
     "name": "stdout",
     "output_type": "stream",
     "text": [
      "Row(station_id='2', name='San Jose Diridon Caltrain Station', lat='37.329732', long='-121.901782', dockcount='27', landmark='San Jose', installation='8/6/2013')\n",
      "Row(station_id='51', id='Embarcadero at Folsom', lat='37.791464', long='-122.391034', dockcount='19', landmark='San Francisco', installation='8/20/2013')\n"
     ]
    }
   ],
   "source": [
    "for l in [bikeStations.first(), stationVertices.first()]: print(l)"
   ]
  },
  {
   "cell_type": "code",
   "execution_count": 23,
   "metadata": {},
   "outputs": [
    {
     "name": "stdout",
     "output_type": "stream",
     "text": [
      "Row(Trip ID='913460', Duration='765', Start Date='8/31/2015 23:26', Start Station='Harry Bridges Plaza (Ferry Building)', Start Terminal='50', End Date='8/31/2015 23:39', End Station='San Francisco Caltrain (Townsend at 4th)', End Terminal='70', Bike #='288', Subscriber Type='Subscriber', Zip Code='2139')\n",
      "Row(Trip ID='913460', Duration='765', Start Date='8/31/2015 23:26', src='Harry Bridges Plaza (Ferry Building)', Start Terminal='50', End Date='8/31/2015 23:39', dst='San Francisco Caltrain (Townsend at 4th)', End Terminal='70', Bike #='288', Subscriber Type='Subscriber', Zip Code='2139')\n"
     ]
    }
   ],
   "source": [
    "for l in [tripData.first(), tripEdges.first()]: print(l)"
   ]
  },
  {
   "cell_type": "code",
   "execution_count": 7,
   "metadata": {},
   "outputs": [
    {
     "data": {
      "text/plain": [
       "GraphFrame(v:[id: string, station_id: string ... 5 more fields], e:[src: string, dst: string ... 9 more fields])"
      ]
     },
     "execution_count": 7,
     "metadata": {},
     "output_type": "execute_result"
    }
   ],
   "source": [
    "stationGraph = gf.GraphFrame(stationVertices, tripEdges)\n",
    "stationGraph.cache()"
   ]
  },
  {
   "cell_type": "code",
   "execution_count": 8,
   "metadata": {},
   "outputs": [
    {
     "name": "stdout",
     "output_type": "stream",
     "text": [
      "+--------------------+--------------------+-----+\n",
      "|                 src|                 dst|count|\n",
      "+--------------------+--------------------+-----+\n",
      "|San Francisco Cal...|     Townsend at 7th| 3748|\n",
      "|Harry Bridges Pla...|Embarcadero at Sa...| 3145|\n",
      "|     2nd at Townsend|Harry Bridges Pla...| 2973|\n",
      "|     Townsend at 7th|San Francisco Cal...| 2734|\n",
      "|Harry Bridges Pla...|     2nd at Townsend| 2640|\n",
      "|Embarcadero at Fo...|San Francisco Cal...| 2439|\n",
      "|   Steuart at Market|     2nd at Townsend| 2356|\n",
      "|Embarcadero at Sa...|   Steuart at Market| 2330|\n",
      "|     Townsend at 7th|San Francisco Cal...| 2192|\n",
      "|Temporary Transba...|San Francisco Cal...| 2184|\n",
      "+--------------------+--------------------+-----+\n",
      "only showing top 10 rows\n",
      "\n"
     ]
    }
   ],
   "source": [
    "from pyspark.sql.functions import desc\n",
    "stationGraph.edges.groupBy(\"src\", \"dst\").count().orderBy(desc(\"count\")).show(10)"
   ]
  },
  {
   "cell_type": "code",
   "execution_count": 9,
   "metadata": {},
   "outputs": [
    {
     "name": "stdout",
     "output_type": "stream",
     "text": [
      "+--------------------+--------------------+-----+\n",
      "|                 src|                 dst|count|\n",
      "+--------------------+--------------------+-----+\n",
      "|San Francisco Cal...|     Townsend at 7th| 3748|\n",
      "|     Townsend at 7th|San Francisco Cal...| 2734|\n",
      "|     Townsend at 7th|San Francisco Cal...| 2192|\n",
      "|     Townsend at 7th|Civic Center BART...| 1844|\n",
      "|Civic Center BART...|     Townsend at 7th| 1765|\n",
      "|San Francisco Cal...|     Townsend at 7th| 1198|\n",
      "|Temporary Transba...|     Townsend at 7th|  834|\n",
      "|     Townsend at 7th|Harry Bridges Pla...|  827|\n",
      "|   Steuart at Market|     Townsend at 7th|  746|\n",
      "|     Townsend at 7th|Temporary Transba...|  740|\n",
      "+--------------------+--------------------+-----+\n",
      "only showing top 10 rows\n",
      "\n"
     ]
    }
   ],
   "source": [
    "stationGraph.edges\\\n",
    "  .where(\"src = 'Townsend at 7th' OR dst = 'Townsend at 7th'\")\\\n",
    "  .groupBy(\"src\", \"dst\").count()\\\n",
    "  .orderBy(desc(\"count\"))\\\n",
    "  .show(10)"
   ]
  },
  {
   "cell_type": "code",
   "execution_count": 25,
   "metadata": {},
   "outputs": [
    {
     "name": "stdout",
     "output_type": "stream",
     "text": [
      "+---------------------------------------+---------------+----------------------------------------+---------------+---------------+\n",
      "|id                                     |id             |id                                      |Start Date     |End Date       |\n",
      "+---------------------------------------+---------------+----------------------------------------+---------------+---------------+\n",
      "|San Francisco Caltrain 2 (330 Townsend)|Townsend at 7th|San Francisco Caltrain (Townsend at 4th)|5/19/2015 16:09|5/19/2015 16:33|\n",
      "+---------------------------------------+---------------+----------------------------------------+---------------+---------------+\n",
      "\n"
     ]
    }
   ],
   "source": [
    "# motif finding\n",
    "motifs = stationGraph.find(\"(a)-[ab]->(b); (b)-[bc]->(c); (c)-[ca]->(a)\")\n",
    "from pyspark.sql.functions import expr\n",
    "motifs.selectExpr(\"*\",\n",
    "    \"to_timestamp(ab.`Start Date`, 'MM/dd/yyyy HH:mm') as abStart\",\n",
    "    \"to_timestamp(bc.`Start Date`, 'MM/dd/yyyy HH:mm') as bcStart\",\n",
    "    \"to_timestamp(ca.`Start Date`, 'MM/dd/yyyy HH:mm') as caStart\")\\\n",
    "  .where(\"ca.`Bike #` = bc.`Bike #`\").where(\"ab.`Bike #` = bc.`Bike #`\")\\\n",
    "  .where(\"a.id != b.id\").where(\"b.id != c.id\")\\\n",
    "  .where(\"abStart < bcStart\").where(\"bcStart < caStart\")\\\n",
    "  .orderBy(expr(\"cast(caStart as long) - cast(abStart as long)\"))\\\n",
    "  .selectExpr(\"a.id\", \"b.id\", \"c.id\", \"ab.`Start Date`\", \"ca.`End Date`\")\\\n",
    "  .limit(1).show(1, False)"
   ]
  },
  {
   "cell_type": "code",
   "execution_count": 26,
   "metadata": {},
   "outputs": [
    {
     "name": "stdout",
     "output_type": "stream",
     "text": [
      "+--------------------+------------------+\n",
      "|                  id|          pagerank|\n",
      "+--------------------+------------------+\n",
      "|San Jose Diridon ...|  4.05150483599002|\n",
      "|San Francisco Cal...| 3.351183296428697|\n",
      "|Mountain View Cal...| 2.514390771015544|\n",
      "|Redwood City Calt...|2.3263087713711714|\n",
      "|San Francisco Cal...|2.2311442913698833|\n",
      "|Harry Bridges Pla...|1.8251120118882476|\n",
      "|     2nd at Townsend|1.5821217785038693|\n",
      "|Santa Clara at Al...|1.5730074084907586|\n",
      "|     Townsend at 7th| 1.568456580534055|\n",
      "|Embarcadero at Sa...| 1.541424208774859|\n",
      "+--------------------+------------------+\n",
      "only showing top 10 rows\n",
      "\n"
     ]
    }
   ],
   "source": [
    "# pagerank algo\n",
    "from pyspark.sql.functions import desc\n",
    "ranks = stationGraph.pageRank(resetProbability=0.15, maxIter=10)\n",
    "ranks.vertices.orderBy(desc(\"pagerank\")).select(\"id\", \"pagerank\").show(10)"
   ]
  },
  {
   "cell_type": "code",
   "execution_count": 27,
   "metadata": {},
   "outputs": [
    {
     "name": "stdout",
     "output_type": "stream",
     "text": [
      "+----------------------------------------+--------+\n",
      "|id                                      |inDegree|\n",
      "+----------------------------------------+--------+\n",
      "|San Francisco Caltrain (Townsend at 4th)|34810   |\n",
      "|San Francisco Caltrain 2 (330 Townsend) |22523   |\n",
      "|Harry Bridges Plaza (Ferry Building)    |17810   |\n",
      "|2nd at Townsend                         |15463   |\n",
      "|Townsend at 7th                         |15422   |\n",
      "+----------------------------------------+--------+\n",
      "only showing top 5 rows\n",
      "\n"
     ]
    }
   ],
   "source": [
    "inDeg = stationGraph.inDegrees\n",
    "inDeg.orderBy(desc(\"inDegree\")).show(5, False)"
   ]
  },
  {
   "cell_type": "code",
   "execution_count": 28,
   "metadata": {},
   "outputs": [
    {
     "name": "stdout",
     "output_type": "stream",
     "text": [
      "+---------------------------------------------+---------+\n",
      "|id                                           |outDegree|\n",
      "+---------------------------------------------+---------+\n",
      "|San Francisco Caltrain (Townsend at 4th)     |26304    |\n",
      "|San Francisco Caltrain 2 (330 Townsend)      |21758    |\n",
      "|Harry Bridges Plaza (Ferry Building)         |17255    |\n",
      "|Temporary Transbay Terminal (Howard at Beale)|14436    |\n",
      "|Embarcadero at Sansome                       |14158    |\n",
      "+---------------------------------------------+---------+\n",
      "only showing top 5 rows\n",
      "\n"
     ]
    }
   ],
   "source": [
    "outDeg = stationGraph.outDegrees\n",
    "outDeg.orderBy(desc(\"outDegree\")).show(5, False)"
   ]
  },
  {
   "cell_type": "code",
   "execution_count": 29,
   "metadata": {},
   "outputs": [
    {
     "name": "stdout",
     "output_type": "stream",
     "text": [
      "+----------------------------------------+------------------+\n",
      "|id                                      |degreeRatio       |\n",
      "+----------------------------------------+------------------+\n",
      "|Redwood City Medical Center             |1.5333333333333334|\n",
      "|San Mateo County Center                 |1.4724409448818898|\n",
      "|SJSU 4th at San Carlos                  |1.3621052631578947|\n",
      "|San Francisco Caltrain (Townsend at 4th)|1.3233728710462287|\n",
      "|Washington at Kearny                    |1.3086466165413533|\n",
      "|Paseo de San Antonio                    |1.2535046728971964|\n",
      "|California Ave Caltrain Station         |1.24              |\n",
      "|Franklin at Maple                       |1.2345679012345678|\n",
      "|Embarcadero at Vallejo                  |1.2201707365495336|\n",
      "|Market at Sansome                       |1.2173913043478262|\n",
      "+----------------------------------------+------------------+\n",
      "only showing top 10 rows\n",
      "\n",
      "+-------------------------------+------------------+\n",
      "|id                             |degreeRatio       |\n",
      "+-------------------------------+------------------+\n",
      "|Grant Avenue at Columbus Avenue|0.5180520570948782|\n",
      "|2nd at Folsom                  |0.5909488686085761|\n",
      "|Powell at Post (Union Square)  |0.6434241245136186|\n",
      "|Mezes Park                     |0.6839622641509434|\n",
      "|Evelyn Park and Ride           |0.7413087934560327|\n",
      "|Beale at Market                |0.75726761574351  |\n",
      "|Golden Gate at Polk            |0.7822270981897971|\n",
      "|Ryland Park                    |0.7857142857142857|\n",
      "|San Francisco City Hall        |0.7928849902534113|\n",
      "|Palo Alto Caltrain Station     |0.8064516129032258|\n",
      "+-------------------------------+------------------+\n",
      "only showing top 10 rows\n",
      "\n"
     ]
    }
   ],
   "source": [
    "degreeRatio = inDeg.join(outDeg, \"id\")\\\n",
    "  .selectExpr(\"id\", \"double(inDegree)/double(outDegree) as degreeRatio\")\n",
    "degreeRatio.orderBy(desc(\"degreeRatio\")).show(10, False)\n",
    "degreeRatio.orderBy(\"degreeRatio\").show(10, False)"
   ]
  },
  {
   "cell_type": "code",
   "execution_count": 30,
   "metadata": {},
   "outputs": [
    {
     "name": "stdout",
     "output_type": "stream",
     "text": [
      "+--------------------+--------------------+--------------------+\n",
      "|                from|                  e0|                  to|\n",
      "+--------------------+--------------------+--------------------+\n",
      "|[65, Townsend at ...|[913371, 663, 8/3...|[49, Spear at Fol...|\n",
      "|[65, Townsend at ...|[913265, 658, 8/3...|[49, Spear at Fol...|\n",
      "|[65, Townsend at ...|[911919, 722, 8/3...|[49, Spear at Fol...|\n",
      "|[65, Townsend at ...|[910777, 704, 8/2...|[49, Spear at Fol...|\n",
      "|[65, Townsend at ...|[908994, 1115, 8/...|[49, Spear at Fol...|\n",
      "|[65, Townsend at ...|[906912, 892, 8/2...|[49, Spear at Fol...|\n",
      "|[65, Townsend at ...|[905201, 980, 8/2...|[49, Spear at Fol...|\n",
      "|[65, Townsend at ...|[904010, 969, 8/2...|[49, Spear at Fol...|\n",
      "|[65, Townsend at ...|[903375, 850, 8/2...|[49, Spear at Fol...|\n",
      "|[65, Townsend at ...|[899944, 910, 8/2...|[49, Spear at Fol...|\n",
      "+--------------------+--------------------+--------------------+\n",
      "only showing top 10 rows\n",
      "\n"
     ]
    }
   ],
   "source": [
    "stationGraph.bfs(fromExpr=\"id = 'Townsend at 7th'\",\n",
    "  toExpr=\"id = 'Spear at Folsom'\", maxPathLength=2).show(10)"
   ]
  },
  {
   "cell_type": "code",
   "execution_count": 31,
   "metadata": {},
   "outputs": [],
   "source": [
    "# connectedComponents\n",
    "spark.sparkContext.setCheckpointDir(\"/tmp/checkpoints\")"
   ]
  },
  {
   "cell_type": "code",
   "execution_count": 33,
   "metadata": {},
   "outputs": [],
   "source": [
    "# in Python\n",
    "minGraph = gf.GraphFrame(stationVertices, tripEdges.sample(False, 0.1))\n",
    "cc = minGraph.connectedComponents()"
   ]
  },
  {
   "cell_type": "code",
   "execution_count": 34,
   "metadata": {},
   "outputs": [
    {
     "name": "stdout",
     "output_type": "stream",
     "text": [
      "+----------+--------------------+---------+-----------+---------+-------------+------------+------------+\n",
      "|station_id|                  id|      lat|       long|dockcount|     landmark|installation|   component|\n",
      "+----------+--------------------+---------+-----------+---------+-------------+------------+------------+\n",
      "|        47|     Post at Kearney|37.788975|-122.403452|       19|San Francisco|   8/19/2013|317827579904|\n",
      "|        46|Washington at Kea...|37.795425|-122.404767|       15|San Francisco|   8/19/2013| 17179869184|\n",
      "+----------+--------------------+---------+-----------+---------+-------------+------------+------------+\n",
      "\n"
     ]
    }
   ],
   "source": [
    "cc.where(\"component != 0\").show()"
   ]
  },
  {
   "cell_type": "markdown",
   "metadata": {},
   "source": [
    "# sys data"
   ]
  },
  {
   "cell_type": "code",
   "execution_count": 4,
   "metadata": {},
   "outputs": [],
   "source": [
    "sc.addPyFile('graphframes.zip')"
   ]
  },
  {
   "cell_type": "code",
   "execution_count": 7,
   "metadata": {},
   "outputs": [
    {
     "data": {
      "text/plain": [
       "['/home/jovyan/work',\n",
       " '/tmp/spark-2efe940d-a9c3-4bd2-81df-1d42311cfb25/userFiles-e08b890c-cb9d-4949-ab85-457e8e71bb05/org.slf4j_slf4j-api-1.7.16.jar',\n",
       " '/tmp/spark-2efe940d-a9c3-4bd2-81df-1d42311cfb25/userFiles-e08b890c-cb9d-4949-ab85-457e8e71bb05/graphframes_graphframes-0.7.0-spark2.4-s_2.11.jar',\n",
       " '/tmp/spark-2efe940d-a9c3-4bd2-81df-1d42311cfb25/userFiles-e08b890c-cb9d-4949-ab85-457e8e71bb05',\n",
       " '/usr/local/spark/python',\n",
       " '/usr/local/spark/python/lib/py4j-0.10.7-src.zip',\n",
       " '/opt/conda/lib/python37.zip',\n",
       " '/opt/conda/lib/python3.7',\n",
       " '/opt/conda/lib/python3.7/lib-dynload',\n",
       " '',\n",
       " '/opt/conda/lib/python3.7/site-packages',\n",
       " '/opt/conda/lib/python3.7/site-packages/IPython/extensions',\n",
       " '/home/jovyan/.ipython']"
      ]
     },
     "execution_count": 7,
     "metadata": {},
     "output_type": "execute_result"
    }
   ],
   "source": [
    "import sys\n",
    "sys.path"
   ]
  },
  {
   "cell_type": "code",
   "execution_count": 4,
   "metadata": {},
   "outputs": [
    {
     "data": {
      "text/plain": [
       "environ{'LC_ALL': 'en_US.UTF-8',\n",
       "        'LANG': 'en_US.UTF-8',\n",
       "        'HOSTNAME': 'b96fa138fd0d',\n",
       "        'NB_UID': '1000',\n",
       "        'CONDA_DIR': '/opt/conda',\n",
       "        'CONDA_VERSION': '4.7.5',\n",
       "        'MESOS_NATIVE_LIBRARY': '/usr/local/lib/libmesos.so',\n",
       "        'PWD': '/home/jovyan',\n",
       "        'HOME': '/home/jovyan',\n",
       "        'DEBIAN_FRONTEND': 'noninteractive',\n",
       "        'SPARK_HOME': '/usr/local/spark',\n",
       "        'NB_USER': 'jovyan',\n",
       "        'HADOOP_VERSION': '2.7',\n",
       "        'SHELL': '/bin/bash',\n",
       "        'SPARK_OPTS': '--driver-java-options=-Xms1024M --driver-java-options=-Xmx4096M --driver-java-options=-Dlog4j.logLevel=info',\n",
       "        'APACHE_SPARK_VERSION': '2.4.3',\n",
       "        'SHLVL': '0',\n",
       "        'LANGUAGE': 'en_US.UTF-8',\n",
       "        'PYTHONPATH': '/usr/local/spark/python:/usr/local/spark/python/lib/py4j-0.10.7-src.zip',\n",
       "        'XDG_CACHE_HOME': '/home/jovyan/.cache/',\n",
       "        'NB_GID': '100',\n",
       "        'PATH': '/opt/conda/bin:/opt/conda/bin:/usr/local/sbin:/usr/local/bin:/usr/sbin:/usr/bin:/sbin:/bin',\n",
       "        'MINICONDA_VERSION': '4.6.14',\n",
       "        'JPY_PARENT_PID': '7',\n",
       "        'TERM': 'xterm-color',\n",
       "        'CLICOLOR': '1',\n",
       "        'PAGER': 'cat',\n",
       "        'GIT_PAGER': 'cat',\n",
       "        'MPLBACKEND': 'module://ipykernel.pylab.backend_inline',\n",
       "        'PYSPARK_SUBMIT_ARGS': '--packages graphframes:graphframes:0.7.0-spark2.4-s_2.11 pyspark-shell'}"
      ]
     },
     "execution_count": 4,
     "metadata": {},
     "output_type": "execute_result"
    }
   ],
   "source": [
    "import os\n",
    "os.environ"
   ]
  },
  {
   "cell_type": "code",
   "execution_count": null,
   "metadata": {},
   "outputs": [],
   "source": []
  }
 ],
 "metadata": {
  "kernelspec": {
   "display_name": "Python 3",
   "language": "python",
   "name": "python3"
  },
  "language_info": {
   "codemirror_mode": {
    "name": "ipython",
    "version": 3
   },
   "file_extension": ".py",
   "mimetype": "text/x-python",
   "name": "python",
   "nbconvert_exporter": "python",
   "pygments_lexer": "ipython3",
   "version": "3.7.3"
  }
 },
 "nbformat": 4,
 "nbformat_minor": 2
}
