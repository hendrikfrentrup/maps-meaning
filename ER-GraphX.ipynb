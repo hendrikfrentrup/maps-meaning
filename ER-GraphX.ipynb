{
 "cells": [
  {
   "cell_type": "code",
   "execution_count": 1,
   "metadata": {},
   "outputs": [
    {
     "data": {
      "text/plain": [
       "record_schema = StructType(StructField(ip,StringType,true), StructField(mac,StringType,true), StructField(hostname,StringType,true), StructField(serial_no,StringType,true), StructField(owner,StringType,true), StructField(source_name,StringType,true), StructField(id,LongType,false))\n",
       "records = [ip: string, mac: string ... 5 more fields]\n",
       "mirrorColNames = Array(_ip, _mac, _hostname, _serial_no, ...\n"
      ]
     },
     "metadata": {},
     "output_type": "display_data"
    },
    {
     "data": {
      "text/plain": [
       "Array(_ip, _mac, _hostname, _serial_no, ..."
      ]
     },
     "execution_count": 1,
     "metadata": {},
     "output_type": "execute_result"
    }
   ],
   "source": [
    "import org.apache.spark.sql.functions._\n",
    "import org.apache.spark.sql.types.{LongType, StringType, StructField, StructType}\n",
    "import org.apache.spark.graphx._\n",
    "import org.apache.spark.graphx.{Edge, Graph, PartitionID, VertexId}\n",
    "import org.apache.spark.rdd.RDD\n",
    "import org.apache.spark.sql.{Column, DataFrame, Dataset, Row}\n",
    "\n",
    "val record_schema = \n",
    "    StructType(\n",
    "        Seq(\n",
    "            StructField(name = \"ip\",          dataType = StringType, nullable=true),\n",
    "            StructField(name = \"mac\",         dataType = StringType, nullable=true),\n",
    "            StructField(name = \"hostname\",    dataType = StringType, nullable=true),\n",
    "            StructField(name = \"serial_no\",   dataType = StringType, nullable=true),\n",
    "            StructField(name = \"owner\",       dataType = StringType, nullable=true),\n",
    "            StructField(name = \"source_name\", dataType = StringType, nullable=true),\n",
    "            StructField(name = \"id\",          dataType = LongType,   nullable=false)\n",
    "        )\n",
    "    )\n",
    "\n",
    "val records = spark.read.format(\"csv\")\n",
    "                .option(\"header\", \"true\")\n",
    "                .schema(record_schema)\n",
    "                .load(\"data/small_test_data.csv\")\n",
    "\n",
    "val mirrorColNames = for (col <- records.columns) yield \"_\"+col.toString\n",
    "val mirror = records.toDF(mirrorColNames: _*)\n",
    "\n",
    "def conditions(matchCols: Seq[String]): Column = {\n",
    "    col(\"id\")=!=col(\"_id\") && \n",
    "    matchCols.map(c => col(c)===col(\"_\"+c)).reduce(_ || _)\n",
    "}\n",
    "\n",
    "val edges = records.join(mirror, conditions(Seq(\"ip\", \"mac\", \"hostname\")))\n",
    "val edgesRDD = edges.select(\"id\",\"_id\")\n",
    "                    .map(r => Edge(r.getAs[VertexId](0), r.getAs[VertexId](1), null))\n",
    "                    .rdd\n",
    "\n",
    "val nodesRDD = records.map(r => (r.getAs[VertexId](\"id\"), 1)).rdd"
   ]
  },
  {
   "cell_type": "code",
   "execution_count": 2,
   "metadata": {},
   "outputs": [
    {
     "data": {
      "text/plain": [
       "graph = org.apache.spark.graphx.impl.GraphImpl@7c6c33be\n"
      ]
     },
     "metadata": {},
     "output_type": "display_data"
    },
    {
     "data": {
      "text/plain": [
       "org.apache.spark.graphx.impl.GraphImpl@7c6c33be"
      ]
     },
     "execution_count": 2,
     "metadata": {},
     "output_type": "execute_result"
    }
   ],
   "source": [
    "val graph = Graph(nodesRDD, edgesRDD)"
   ]
  },
  {
   "cell_type": "code",
   "execution_count": 3,
   "metadata": {},
   "outputs": [
    {
     "data": {
      "text/plain": [
       "cc = org.apache.spark.graphx.impl.GraphImpl@c5644bf\n"
      ]
     },
     "metadata": {},
     "output_type": "display_data"
    },
    {
     "data": {
      "text/plain": [
       "org.apache.spark.graphx.impl.GraphImpl@c5644bf"
      ]
     },
     "execution_count": 3,
     "metadata": {},
     "output_type": "execute_result"
    }
   ],
   "source": [
    "val cc = graph.connectedComponents()"
   ]
  },
  {
   "cell_type": "code",
   "execution_count": 4,
   "metadata": {},
   "outputs": [
    {
     "name": "stdout",
     "output_type": "stream",
     "text": [
      "Edge(3,4,null)\n",
      "Edge(3,5,null)\n",
      "Edge(4,3,null)\n",
      "Edge(4,5,null)\n",
      "Edge(5,3,null)\n",
      "Edge(5,4,null)\n",
      "(4,3)\n",
      "(0,0)\n",
      "(1,1)\n",
      "(3,3)\n",
      "(5,3)\n",
      "(2,2)\n"
     ]
    }
   ],
   "source": [
    "println(cc.edges.collect().mkString(\"\\n\"))\n",
    "println(cc.vertices.collect().mkString(\"\\n\"))"
   ]
  },
  {
   "cell_type": "code",
   "execution_count": 5,
   "metadata": {},
   "outputs": [
    {
     "name": "stdout",
     "output_type": "stream",
     "text": [
      "Edge(3,4,null)\n",
      "Edge(3,5,null)\n",
      "Edge(4,3,null)\n",
      "Edge(4,5,null)\n",
      "Edge(5,3,null)\n",
      "Edge(5,4,null)\n",
      "(4,1)\n",
      "(0,1)\n",
      "(1,1)\n",
      "(3,1)\n",
      "(5,1)\n",
      "(2,1)\n"
     ]
    }
   ],
   "source": [
    "println(graph.edges.collect().mkString(\"\\n\"))\n",
    "println(graph.vertices.collect().mkString(\"\\n\"))"
   ]
  },
  {
   "cell_type": "code",
   "execution_count": 6,
   "metadata": {},
   "outputs": [
    {
     "name": "stdout",
     "output_type": "stream",
     "text": [
      "[106.60.189.138,null,bdruhan1m@1688.com,null,null,SY,4,4,3]\n",
      "[null,29:0b:58:3d:26:6d,isoulsby3v@behance.net,KXHGN8D8KM,Izzy Soulsby,LD,0,0,0]\n",
      "[null,a9:11:e3:35:23:fa,cpollak74@nifty.com,Y5K30C65M3,Cathlene Pollak,LD,1,1,1]\n",
      "[null,4c:31:07:e9:9a:90,bdruhan1m@1688.com,U0UOS9R43J,Brittaney Druhan,LD,3,3,3]\n",
      "[106.60.189.138,4c:31:07:e9:9a:90,null,null,null,DT,5,5,3]\n",
      "[null,90:22:03:25:11:d8,ckissock53@php.net,7ZGA85QA5H,Colin Kissock,LD,2,2,2]\n"
     ]
    },
    {
     "data": {
      "text/plain": [
       "out = [_1: bigint, _2: bigint]\n",
       "temp = [ip: string, mac: string ... 7 more fields]\n"
      ]
     },
     "metadata": {},
     "output_type": "display_data"
    },
    {
     "data": {
      "text/plain": [
       "[ip: string, mac: string ... 7 more fields]"
      ]
     },
     "execution_count": 6,
     "metadata": {},
     "output_type": "execute_result"
    }
   ],
   "source": [
    "val out = cc.vertices.toDF()\n",
    "val temp = records.join(out, $\"id\"===$\"_1\")\n",
    "println(temp.collect().mkString(\"\\n\"))"
   ]
  },
  {
   "cell_type": "code",
   "execution_count": 28,
   "metadata": {},
   "outputs": [
    {
     "name": "stdout",
     "output_type": "stream",
     "text": [
      "StructType(StructField(ip,StringType,true), StructField(mac,StringType,true), StructField(hostname,StringType,true), StructField(serial_no,StringType,true), StructField(owner,StringType,true), StructField(source_name,StringType,true), StructField(record_id,LongType,true), StructField(_1,LongType,false), StructField(_2,LongType,false))\n"
     ]
    }
   ],
   "source": [
    "println(temp.schema)"
   ]
  },
  {
   "cell_type": "code",
   "execution_count": 13,
   "metadata": {},
   "outputs": [
    {
     "data": {
      "text/plain": [
       "gg = [entity_id: bigint, collect_set(mac): array<string>]\n"
      ]
     },
     "metadata": {},
     "output_type": "display_data"
    },
    {
     "data": {
      "text/plain": [
       "[entity_id: bigint, collect_set(mac): array<string>]"
      ]
     },
     "execution_count": 13,
     "metadata": {},
     "output_type": "execute_result"
    }
   ],
   "source": [
    "val gg=temp.withColumnRenamed(\"_2\", \"entity_id\").groupBy(\"entity_id\").agg(collect_set($\"mac\"))"
   ]
  },
  {
   "cell_type": "code",
   "execution_count": 14,
   "metadata": {},
   "outputs": [
    {
     "data": {
      "text/plain": [
       "Array([0,WrappedArray(29:0b:58:3d:26:6d)], [1,WrappedArray(a9:11:e3:35:23:fa)], [3,WrappedArray(4c:31:07:e9:9a:90)], [2,WrappedArray(90:22:03:25:11:d8)])"
      ]
     },
     "execution_count": 14,
     "metadata": {},
     "output_type": "execute_result"
    }
   ],
   "source": [
    "gg.collect()"
   ]
  },
  {
   "cell_type": "code",
   "execution_count": null,
   "metadata": {},
   "outputs": [],
   "source": []
  }
 ],
 "metadata": {
  "kernelspec": {
   "display_name": "Apache Toree - Scala",
   "language": "scala",
   "name": "apache_toree_scala"
  },
  "language_info": {
   "codemirror_mode": "text/x-scala",
   "file_extension": ".scala",
   "mimetype": "text/x-scala",
   "name": "scala",
   "pygments_lexer": "scala",
   "version": "2.11.12"
  }
 },
 "nbformat": 4,
 "nbformat_minor": 2
}
