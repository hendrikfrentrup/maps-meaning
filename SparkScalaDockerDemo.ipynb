{
 "cells": [
  {
   "cell_type": "code",
   "execution_count": 10,
   "metadata": {},
   "outputs": [
    {
     "data": {
      "text/plain": [
       "textFile = data/shakespeare.txt MapPartitionsRDD[37] at textFile at <console>:36\n",
       "counts = ShuffledRDD[40] at reduceByKey at <console>:41\n"
      ]
     },
     "metadata": {},
     "output_type": "display_data"
    },
    {
     "data": {
      "text/plain": [
       "lastException: Throwable = null\n"
      ]
     },
     "metadata": {},
     "output_type": "display_data"
    },
    {
     "data": {
      "text/plain": [
       "ShuffledRDD[40] at reduceByKey at <console>:41"
      ]
     },
     "execution_count": 10,
     "metadata": {},
     "output_type": "execute_result"
    }
   ],
   "source": [
    "//Create a SparkContext to initialize Spark\n",
    "// val conf = new SparkConf()\n",
    "// conf.setMaster(\"local\")\n",
    "// conf.setAppName(\"Word Count\")\n",
    "// val sc = new SparkContext(conf)\n",
    "\n",
    "val textFile = sc.textFile(\"data/shakespeare.txt\")\n",
    "\n",
    "//word count\n",
    "val counts = textFile.flatMap(line => line.split(\" \"))\n",
    "  .map(word => (word, 1))\n",
    "  .reduceByKey(_ + _)\n",
    "\n",
    "counts.foreach(println)\n",
    "// System.out.println(\"Total words: \" + counts.count());\n",
    "counts.saveAsTextFile(\"output/shakespeareWordCount\")"
   ]
  },
  {
   "cell_type": "code",
   "execution_count": null,
   "metadata": {},
   "outputs": [],
   "source": []
  }
 ],
 "metadata": {
  "kernelspec": {
   "display_name": "Apache Toree - Scala",
   "language": "scala",
   "name": "apache_toree_scala"
  },
  "language_info": {
   "codemirror_mode": "text/x-scala",
   "file_extension": ".scala",
   "mimetype": "text/x-scala",
   "name": "scala",
   "pygments_lexer": "scala",
   "version": "2.11.12"
  }
 },
 "nbformat": 4,
 "nbformat_minor": 2
}
