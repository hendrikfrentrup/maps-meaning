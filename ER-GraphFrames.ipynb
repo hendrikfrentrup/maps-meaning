{
 "cells": [
  {
   "cell_type": "code",
   "execution_count": 1,
   "metadata": {},
   "outputs": [],
   "source": [
    "try:\n",
    "    sc and spark\n",
    "except NameError as e:\n",
    "    import pyspark\n",
    "    import pyspark.sql\n",
    "    \n",
    "    sc = pyspark.SparkContext()\n",
    "    spark = pyspark.sql.SparkSession.builder.appName(\"test\").getOrCreate()"
   ]
  },
  {
   "cell_type": "code",
   "execution_count": 2,
   "metadata": {},
   "outputs": [],
   "source": [
    "import graphframes as gf\n",
    "from pyspark.sql.functions import col\n",
    "from functools import reduce\n"
   ]
  },
  {
   "cell_type": "code",
   "execution_count": 3,
   "metadata": {},
   "outputs": [],
   "source": [
    "# READ DATA\n",
    "records = spark.read.option(\"header\",\"true\").csv(\"data/test_records.csv\")"
   ]
  },
  {
   "cell_type": "code",
   "execution_count": 4,
   "metadata": {},
   "outputs": [
    {
     "data": {
      "text/plain": [
       "Row(serial_no='FVH6107', hostname='UK-OUT-1383', mac='21:35:ee:fe:1d:03', ip=None, dns_name='UK-OUT-1383.msn.com', distinguished_name=None, device_type='Server', os_type=None, os='Ubuntu Linux', os_version=None, os_service_pack=None, user=None, last_logon_timestamp='2018-08-08 07:01:39', last_pw_change_timestamp='2016-01-28 07:01:39 UTC', owner='Krystyna Garrold', first_seen_timestamp='2017-04-15 09:40:59', last_seen_timestamp='2021-02-16 07:01:39 UTC', last_scan_timestamp=None, source_type='database', source_name='LanDesk', record_id='0')"
      ]
     },
     "execution_count": 4,
     "metadata": {},
     "output_type": "execute_result"
    }
   ],
   "source": [
    "records.first()"
   ]
  },
  {
   "cell_type": "code",
   "execution_count": 21,
   "metadata": {},
   "outputs": [],
   "source": [
    "mirrorColNames = [f\"_{col}\" for col in records.columns]\n",
    "mirror = records.toDF(*mirrorColNames)"
   ]
  },
  {
   "cell_type": "code",
   "execution_count": 22,
   "metadata": {},
   "outputs": [],
   "source": [
    "# generate edges\n",
    "r=records\n",
    "m=mirror\n",
    "match_cols=[\"ip\", \"mac\", \"hostname\"]\n",
    "mcond=[col(c) == col(f'_{c}') for c in match_cols]\n",
    "cond = [(col(\"record_id\") != col(\"_record_id\")) & \\\n",
    "        reduce(lambda x,y: x | y, mcond)]\n",
    "cond\n",
    "\n",
    "# \n",
    "\n",
    "edges = r.join(m, cond).select(\"record_id\", \"_record_id\")\n",
    "# r[\"record_id\"].notEqual(m[\"_record_id\"]) )\n",
    "# & r(\"ip\").equalTo(m(\"_ip\")) )"
   ]
  },
  {
   "cell_type": "code",
   "execution_count": 25,
   "metadata": {},
   "outputs": [
    {
     "data": {
      "text/plain": [
       "[Column<b'((NOT (record_id = _record_id)) AND (((ip = _ip) OR (mac = _mac)) OR (hostname = _hostname)))'>]"
      ]
     },
     "execution_count": 25,
     "metadata": {},
     "output_type": "execute_result"
    }
   ],
   "source": [
    "cond"
   ]
  },
  {
   "cell_type": "code",
   "execution_count": 23,
   "metadata": {},
   "outputs": [],
   "source": [
    "# generate nodes\n",
    "nodes=records.withColumnRenamed('record_id', 'id')\n",
    "\n",
    "# generate edge list\n",
    "edge_list=edges.withColumnRenamed('record_id', 'src').withColumnRenamed('_record_id', 'dst')\n",
    "\n",
    "# create graph\n",
    "graph = gf.GraphFrame(nodes, edge_list)"
   ]
  },
  {
   "cell_type": "code",
   "execution_count": 24,
   "metadata": {},
   "outputs": [],
   "source": [
    "# run connected components\n",
    "spark.sparkContext.setCheckpointDir(\"/tmp/checkpoints\")\n",
    "cc = graph.connectedComponents()"
   ]
  },
  {
   "cell_type": "code",
   "execution_count": 68,
   "metadata": {},
   "outputs": [
    {
     "name": "stdout",
     "output_type": "stream",
     "text": [
      "+--------------+-----------------+--------------------+----------+----------------+-----------+---+-------------+\n",
      "|            ip|              mac|            hostname| serial_no|           owner|source_name| id|    component|\n",
      "+--------------+-----------------+--------------------+----------+----------------+-----------+---+-------------+\n",
      "|          null|29:0b:58:3d:26:6d|isoulsby3v@behanc...|KXHGN8D8KM|    Izzy Soulsby|         LD|  0| 300647710720|\n",
      "|          null|a9:11:e3:35:23:fa| cpollak74@nifty.com|Y5K30C65M3| Cathlene Pollak|         LD|  1|1236950581248|\n",
      "|          null|90:22:03:25:11:d8|  ckissock53@php.net|7ZGA85QA5H|   Colin Kissock|         LD|  2|1623497637888|\n",
      "|          null|4c:31:07:e9:9a:90|  bdruhan1m@1688.com|U0UOS9R43J|Brittaney Druhan|         LD|  3| 154618822656|\n",
      "|106.60.189.138|             null|  bdruhan1m@1688.com|      null|            null|         SY|  4| 154618822656|\n",
      "|106.60.189.138|4c:31:07:e9:9a:90|                null|      null|            null|         DT|  5| 154618822656|\n",
      "+--------------+-----------------+--------------------+----------+----------------+-----------+---+-------------+\n",
      "\n"
     ]
    }
   ],
   "source": [
    "cc.show()"
   ]
  },
  {
   "cell_type": "code",
   "execution_count": 6,
   "metadata": {},
   "outputs": [
    {
     "name": "stdout",
     "output_type": "stream",
     "text": [
      "+---------+----------+\n",
      "|record_id|_record_id|\n",
      "+---------+----------+\n",
      "|        3|         4|\n",
      "|        3|         5|\n",
      "|        4|         3|\n",
      "|        4|         5|\n",
      "|        5|         3|\n",
      "|        5|         4|\n",
      "+---------+----------+\n",
      "\n"
     ]
    }
   ],
   "source": [
    "edges.show()"
   ]
  },
  {
   "cell_type": "code",
   "execution_count": 15,
   "metadata": {},
   "outputs": [
    {
     "name": "stdout",
     "output_type": "stream",
     "text": [
      "Row(record_id='3', count=2)\n",
      "Row(record_id='5', count=2)\n",
      "Row(record_id='4', count=2)\n"
     ]
    }
   ],
   "source": [
    "for r in edges.groupBy('record_id').count().collect():\n",
    "    print(r)"
   ]
  },
  {
   "cell_type": "code",
   "execution_count": 17,
   "metadata": {},
   "outputs": [
    {
     "data": {
      "text/plain": [
       "['/home/jovyan/work',\n",
       " '/tmp/spark-7b71b98f-9773-4c6c-8100-1a4e09254dd6/userFiles-879341e2-dbe2-47ab-9d10-9b7e5fc5424f',\n",
       " '/usr/local/spark/python',\n",
       " '/usr/local/spark/python/lib/py4j-0.10.7-src.zip',\n",
       " '/opt/conda/lib/python37.zip',\n",
       " '/opt/conda/lib/python3.7',\n",
       " '/opt/conda/lib/python3.7/lib-dynload',\n",
       " '',\n",
       " '/opt/conda/lib/python3.7/site-packages',\n",
       " '/opt/conda/lib/python3.7/site-packages/IPython/extensions',\n",
       " '/home/jovyan/.ipython']"
      ]
     },
     "execution_count": 17,
     "metadata": {},
     "output_type": "execute_result"
    }
   ],
   "source": [
    "import sys\n",
    "sys.path"
   ]
  },
  {
   "cell_type": "code",
   "execution_count": 16,
   "metadata": {},
   "outputs": [],
   "source": [
    "from pyspark.sql.functions import monotonically_increasing_id\n",
    "records.withColumn(\"id\", monotonically_increasing_id())"
   ]
  },
  {
   "cell_type": "code",
   "execution_count": 17,
   "metadata": {},
   "outputs": [
    {
     "name": "stdout",
     "output_type": "stream",
     "text": [
      "+---+----+---------+\n",
      "| id|  ip|record_id|\n",
      "+---+----+---------+\n",
      "|  0|null|        0|\n",
      "|  1|null|        1|\n",
      "|  2|null|        2|\n",
      "|  3|null|        3|\n",
      "|  4|null|        4|\n",
      "|  5|null|        5|\n",
      "|  6|null|        6|\n",
      "|  7|null|        7|\n",
      "|  8|null|        8|\n",
      "|  9|null|        9|\n",
      "| 10|null|       10|\n",
      "| 11|null|       11|\n",
      "| 12|null|       12|\n",
      "| 13|null|       13|\n",
      "| 14|null|       14|\n",
      "| 15|null|       15|\n",
      "| 16|null|       16|\n",
      "| 17|null|       17|\n",
      "| 18|null|       18|\n",
      "| 19|null|       19|\n",
      "+---+----+---------+\n",
      "only showing top 20 rows\n",
      "\n"
     ]
    }
   ],
   "source": [
    "gg.select([\"id\", \"ip\", \"record_id\"]).show()"
   ]
  },
  {
   "cell_type": "code",
   "execution_count": null,
   "metadata": {},
   "outputs": [],
   "source": []
  }
 ],
 "metadata": {
  "kernelspec": {
   "display_name": "Python 3",
   "language": "python",
   "name": "python3"
  },
  "language_info": {
   "codemirror_mode": {
    "name": "ipython",
    "version": 3
   },
   "file_extension": ".py",
   "mimetype": "text/x-python",
   "name": "python",
   "nbconvert_exporter": "python",
   "pygments_lexer": "ipython3",
   "version": "3.7.3"
  }
 },
 "nbformat": 4,
 "nbformat_minor": 2
}
