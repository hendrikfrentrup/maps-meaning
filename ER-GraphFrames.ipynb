{
 "cells": [
  {
   "cell_type": "code",
   "execution_count": 1,
   "metadata": {},
   "outputs": [],
   "source": [
    "try:\n",
    "    sc and spark\n",
    "except NameError as e:\n",
    "    import pyspark\n",
    "    import pyspark.sql\n",
    "    \n",
    "    sc = pyspark.SparkContext()\n",
    "    spark = pyspark.sql.SparkSession.builder.appName(\"test\").getOrCreate()"
   ]
  },
  {
   "cell_type": "code",
   "execution_count": 2,
   "metadata": {},
   "outputs": [],
   "source": [
    "import graphframes as gf\n",
    "records = spark.read.option(\"header\",\"true\").csv(\"data/small_test_data.csv\")"
   ]
  },
  {
   "cell_type": "code",
   "execution_count": 3,
   "metadata": {},
   "outputs": [
    {
     "name": "stdout",
     "output_type": "stream",
     "text": [
      "+--------------+-----------------+--------------------+----------+----------------+-----------+---------+\n",
      "|            ip|              mac|            hostname| serial_no|           owner|source_name|record_id|\n",
      "+--------------+-----------------+--------------------+----------+----------------+-----------+---------+\n",
      "|          null|29:0b:58:3d:26:6d|isoulsby3v@behanc...|KXHGN8D8KM|    Izzy Soulsby|         LD|        0|\n",
      "|          null|a9:11:e3:35:23:fa| cpollak74@nifty.com|Y5K30C65M3| Cathlene Pollak|         LD|        1|\n",
      "|          null|90:22:03:25:11:d8|  ckissock53@php.net|7ZGA85QA5H|   Colin Kissock|         LD|        2|\n",
      "|          null|4c:31:07:e9:9a:90|  bdruhan1m@1688.com|U0UOS9R43J|Brittaney Druhan|         LD|        3|\n",
      "|106.60.189.138|             null|  bdruhan1m@1688.com|      null|            null|         SY|        4|\n",
      "|106.60.189.138|4c:31:07:e9:9a:90|                null|      null|            null|         DT|        5|\n",
      "+--------------+-----------------+--------------------+----------+----------------+-----------+---------+\n",
      "\n"
     ]
    }
   ],
   "source": [
    "records.show()"
   ]
  },
  {
   "cell_type": "code",
   "execution_count": null,
   "metadata": {},
   "outputs": [],
   "source": [
    "# generate edges (self-join)\n",
    "# generate vertices\n",
    "# create graph\n",
    "# run connected components"
   ]
  }
 ],
 "metadata": {
  "kernelspec": {
   "display_name": "Python 3",
   "language": "python",
   "name": "python3"
  },
  "language_info": {
   "codemirror_mode": {
    "name": "ipython",
    "version": 3
   },
   "file_extension": ".py",
   "mimetype": "text/x-python",
   "name": "python",
   "nbconvert_exporter": "python",
   "pygments_lexer": "ipython3",
   "version": "3.7.3"
  }
 },
 "nbformat": 4,
 "nbformat_minor": 2
}
